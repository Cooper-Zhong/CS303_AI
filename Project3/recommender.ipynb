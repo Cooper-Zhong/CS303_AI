{
 "cells": [
  {
   "cell_type": "code",
   "execution_count": 1,
   "metadata": {},
   "outputs": [],
   "source": [
    "import numpy as np\n",
    "import factor\n",
    "import utils"
   ]
  },
  {
   "cell_type": "code",
   "execution_count": 2,
   "metadata": {},
   "outputs": [],
   "source": [
    "pos_path = 'data/train_pos.npy'\n",
    "neg_path = 'data/train_neg.npy'\n",
    "kg_path = 'data/kg.txt'"
   ]
  },
  {
   "cell_type": "code",
   "execution_count": 3,
   "metadata": {},
   "outputs": [],
   "source": [
    "train_pos,train_neg = utils.load_train_data( pos_path, neg_path)\n",
    "kg_lines = utils.load_kg_data( kg_path )"
   ]
  },
  {
   "cell_type": "code",
   "execution_count": 4,
   "metadata": {},
   "outputs": [
    {
     "data": {
      "text/plain": [
       "((26638, 3), (24037, 3), 20195)"
      ]
     },
     "execution_count": 4,
     "metadata": {},
     "output_type": "execute_result"
    }
   ],
   "source": [
    "train_pos.shape, train_neg.shape, len(kg_lines)"
   ]
  },
  {
   "cell_type": "code",
   "execution_count": 5,
   "metadata": {},
   "outputs": [
    {
     "data": {
      "text/plain": [
       "(array([[   0, 1113,    1],\n",
       "        [   0,  736,    1],\n",
       "        [   0,  888,    1],\n",
       "        [   0,  636,    1],\n",
       "        [   1,  374,    1]]),\n",
       " array([[   0,   87,    0],\n",
       "        [   0, 1791,    0],\n",
       "        [   0,  587,    0],\n",
       "        [   0,  100,    0],\n",
       "        [   1,  680,    0]]))"
      ]
     },
     "execution_count": 5,
     "metadata": {},
     "output_type": "execute_result"
    }
   ],
   "source": [
    "# (head, tail, relation)\n",
    "train_pos[:5], train_neg[:5]"
   ]
  },
  {
   "cell_type": "code",
   "execution_count": 6,
   "metadata": {},
   "outputs": [
    {
     "data": {
      "text/plain": [
       "['749\\tfilm.film.writer\\t2347\\n',\n",
       " '1410\\tfilm.film.language\\t2348\\n',\n",
       " '1037\\tfilm.film.language\\t2348\\n',\n",
       " '1088\\tfilm.film.writer\\t2349\\n',\n",
       " '1391\\tfilm.film.language\\t2348\\n']"
      ]
     },
     "execution_count": 6,
     "metadata": {},
     "output_type": "execute_result"
    }
   ],
   "source": [
    "# (item, relation, item), separated by '\\t'\n",
    "kg_lines[:5]"
   ]
  },
  {
   "cell_type": "code",
   "execution_count": 7,
   "metadata": {},
   "outputs": [
    {
     "data": {
      "text/plain": [
       "['1410', 'film.film.language', '2348']"
      ]
     },
     "execution_count": 7,
     "metadata": {},
     "output_type": "execute_result"
    }
   ],
   "source": [
    "record = kg_lines[1].strip().split('\\t')\n",
    "record"
   ]
  },
  {
   "cell_type": "code",
   "execution_count": 8,
   "metadata": {},
   "outputs": [
    {
     "data": {
      "text/plain": [
       "20195"
      ]
     },
     "execution_count": 8,
     "metadata": {},
     "output_type": "execute_result"
    }
   ],
   "source": [
    "len(kg_lines)"
   ]
  },
  {
   "cell_type": "code",
   "execution_count": 22,
   "metadata": {},
   "outputs": [],
   "source": [
    "config = {'num_factors':30,'learning_rate':0.03,'regularization':0.03,'epochs':25}"
   ]
  },
  {
   "cell_type": "code",
   "execution_count": 23,
   "metadata": {},
   "outputs": [
    {
     "name": "stdout",
     "output_type": "stream",
     "text": [
      "独热编码结果：\n",
      "[[0. 0. 0. 0. 1. 0. 0.]\n",
      " [1. 0. 0. 0. 0. 0. 0.]\n",
      " [0. 1. 0. 0. 0. 0. 0.]\n",
      " [0. 0. 0. 0. 0. 1. 0.]\n",
      " [0. 0. 0. 0. 0. 0. 1.]\n",
      " [0. 0. 0. 1. 0. 0. 0.]\n",
      " [0. 0. 1. 0. 0. 0. 0.]]\n"
     ]
    },
    {
     "name": "stderr",
     "output_type": "stream",
     "text": [
      "/Users/cooperz/opt/anaconda3/envs/ai_proj2/lib/python3.10/site-packages/sklearn/preprocessing/_encoders.py:975: FutureWarning: `sparse` was renamed to `sparse_output` in version 1.2 and will be removed in 1.4. `sparse_output` is ignored unless you leave `sparse` to its default value.\n",
      "  warnings.warn(\n"
     ]
    }
   ],
   "source": [
    "recommender = factor.KGRS(config, train_pos, train_neg,kg_lines=kg_lines)"
   ]
  },
  {
   "cell_type": "code",
   "execution_count": 24,
   "metadata": {},
   "outputs": [
    {
     "data": {
      "text/plain": [
       "2346"
      ]
     },
     "execution_count": 24,
     "metadata": {},
     "output_type": "execute_result"
    }
   ],
   "source": [
    "np.max(train_pos[:, 1])"
   ]
  },
  {
   "cell_type": "code",
   "execution_count": 25,
   "metadata": {},
   "outputs": [
    {
     "data": {
      "text/plain": [
       "{'film.film.rating': array([0., 0., 0., 0., 1., 0., 0.]),\n",
       " 'film.film.country': array([1., 0., 0., 0., 0., 0., 0.]),\n",
       " 'film.film.director': array([0., 1., 0., 0., 0., 0., 0.]),\n",
       " 'film.film.star': array([0., 0., 0., 0., 0., 1., 0.]),\n",
       " 'film.film.writer': array([0., 0., 0., 0., 0., 0., 1.]),\n",
       " 'film.film.language': array([0., 0., 0., 1., 0., 0., 0.]),\n",
       " 'film.film.genre': array([0., 0., 1., 0., 0., 0., 0.])}"
      ]
     },
     "execution_count": 25,
     "metadata": {},
     "output_type": "execute_result"
    }
   ],
   "source": [
    "recommender.kg_relation_dict"
   ]
  },
  {
   "cell_type": "code",
   "execution_count": 26,
   "metadata": {},
   "outputs": [],
   "source": [
    "recommender.training()"
   ]
  },
  {
   "cell_type": "code",
   "execution_count": 27,
   "metadata": {},
   "outputs": [
    {
     "data": {
      "text/plain": [
       "(array([[5167,  698,    1],\n",
       "        [5751, 1053,    1],\n",
       "        [5984, 2058,    1],\n",
       "        [2213,  887,    1],\n",
       "        [3516,  873,    1]]),\n",
       " array([[1958, 2290,    0],\n",
       "        [4631, 2246,    0],\n",
       "        [2782,  209,    0],\n",
       "        [5995,  979,    0],\n",
       "        [ 747,  354,    0]]))"
      ]
     },
     "execution_count": 27,
     "metadata": {},
     "output_type": "execute_result"
    }
   ],
   "source": [
    "# (head, tail, relation)\n",
    "train_pos[:5], train_neg[:5]"
   ]
  },
  {
   "cell_type": "code",
   "execution_count": 28,
   "metadata": {},
   "outputs": [
    {
     "data": {
      "text/plain": [
       "(0.06777454750717775, 0.7413931692698498)"
      ]
     },
     "execution_count": 28,
     "metadata": {},
     "output_type": "execute_result"
    }
   ],
   "source": [
    "recommender.predict_score(3517, 2319), recommender.predict_score(4155,1140)"
   ]
  },
  {
   "cell_type": "code",
   "execution_count": 29,
   "metadata": {},
   "outputs": [
    {
     "data": {
      "text/plain": [
       "array([0.06777455, 0.19323612, 0.74139317, 0.88834998])"
      ]
     },
     "execution_count": 29,
     "metadata": {},
     "output_type": "execute_result"
    }
   ],
   "source": [
    "test_data = np.array([[3517, 2319], [ 697, 2224],[4155, 1140],[5931, 1064]])\n",
    "recommender.eval_ctr(test_data)"
   ]
  },
  {
   "cell_type": "code",
   "execution_count": 30,
   "metadata": {},
   "outputs": [
    {
     "data": {
      "text/plain": [
       "(array([[4155, 1140,    1],\n",
       "        [4155,  371,    1],\n",
       "        [4155, 1139,    1],\n",
       "        [4155, 1528,    1]]),\n",
       " array([[5931, 1374,    1],\n",
       "        [5931, 1298,    1],\n",
       "        [5931, 1865,    1],\n",
       "        [5931, 1064,    1],\n",
       "        [5931, 1792,    1],\n",
       "        [5931, 1924,    1],\n",
       "        [5931,  789,    1],\n",
       "        [5931, 1770,    1],\n",
       "        [5931,  699,    1],\n",
       "        [5931, 1319,    1],\n",
       "        [5931,  911,    1],\n",
       "        [5931,  198,    1],\n",
       "        [5931, 1627,    1],\n",
       "        [5931, 1166,    1],\n",
       "        [5931,  207,    1],\n",
       "        [5931, 1229,    1],\n",
       "        [5931,   89,    1],\n",
       "        [5931, 1687,    1],\n",
       "        [5931,   67,    1]]))"
      ]
     },
     "execution_count": 30,
     "metadata": {},
     "output_type": "execute_result"
    }
   ],
   "source": [
    "user_4155 = train_pos[train_pos[:,0]==4155]\n",
    "user_5931 = train_pos[train_pos[:,0]==5931]\n",
    "user_4155, user_5931"
   ]
  },
  {
   "cell_type": "code",
   "execution_count": 31,
   "metadata": {},
   "outputs": [
    {
     "data": {
      "text/plain": [
       "[[750, 476, 1139, 371, 879], [348, 1404, 632, 1900, 736]]"
      ]
     },
     "execution_count": 31,
     "metadata": {},
     "output_type": "execute_result"
    }
   ],
   "source": [
    "user_list = [4155,5931]\n",
    "recommender.eval_topk(user_list) # topk=5"
   ]
  }
 ],
 "metadata": {
  "kernelspec": {
   "display_name": "ai_proj2",
   "language": "python",
   "name": "python3"
  },
  "language_info": {
   "codemirror_mode": {
    "name": "ipython",
    "version": 3
   },
   "file_extension": ".py",
   "mimetype": "text/x-python",
   "name": "python",
   "nbconvert_exporter": "python",
   "pygments_lexer": "ipython3",
   "version": "3.10.8"
  }
 },
 "nbformat": 4,
 "nbformat_minor": 2
}
